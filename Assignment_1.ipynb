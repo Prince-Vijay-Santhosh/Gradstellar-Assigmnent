{
  "nbformat": 4,
  "nbformat_minor": 0,
  "metadata": {
    "colab": {
      "provenance": [],
      "authorship_tag": "ABX9TyPDuoUpQRfCuxbDawj5G4hE",
      "include_colab_link": true
    },
    "kernelspec": {
      "name": "python3",
      "display_name": "Python 3"
    },
    "language_info": {
      "name": "python"
    }
  },
  "cells": [
    {
      "cell_type": "markdown",
      "metadata": {
        "id": "view-in-github",
        "colab_type": "text"
      },
      "source": [
        "<a href=\"https://colab.research.google.com/github/Prince-Vijay-Santhosh/Gradstellar-Assigmnent/blob/main/Assignment_1.ipynb\" target=\"_parent\"><img src=\"https://colab.research.google.com/assets/colab-badge.svg\" alt=\"Open In Colab\"/></a>"
      ]
    },
    {
      "cell_type": "code",
      "execution_count": 4,
      "metadata": {
        "colab": {
          "base_uri": "https://localhost:8080/"
        },
        "id": "kxKLDGXRhJxN",
        "outputId": "76a43e2f-b1f2-45e2-d09f-dfaf3e2e02d3"
      },
      "outputs": [
        {
          "output_type": "stream",
          "name": "stdout",
          "text": [
            "13\n",
            "7\n",
            "Hello, Universe!\n",
            "HELLO, WORLD!\n",
            "hello, world!\n",
            "['Hello', ' World!']\n"
          ]
        }
      ],
      "source": [
        "#1.\tImplement the methods of String with examples.\n",
        "#len - length of the string.\n",
        "string = \"Hello, World!\"\n",
        "print(len(string))\n",
        "#find -  index of the first occurrence of a specified substring\n",
        "string = \"Hello, World!\"\n",
        "print(string.find(\"World\"))\n",
        "#replace - replaces a specified substring with another substring\n",
        "string = \"Hello, World!\"\n",
        "print(string.replace(\"World\", \"Universe\"))\n",
        "#upper -   all characters in a string to uppercase\n",
        "string = \"Hello, World!\"\n",
        "print(string.upper())\n",
        "#lower -  all characters in a string to lowercase\n",
        "string = \"HELLO, WORLD!\"\n",
        "print(string.lower())\n",
        "#split - string into a list of substrings\n",
        "string = \"Hello, World!\"\n",
        "print(string.split(\",\"))"
      ]
    },
    {
      "cell_type": "code",
      "source": [
        "#2. Implement the methods of List with examples\n",
        "#append - adds an element to the end of the list\n",
        "my_list = [1, 2, 3]\n",
        "my_list.append(4)\n",
        "print(my_list)\n",
        "#insert - inserts an element at a specified index in the list\n",
        "my_list = [1, 2, 3]\n",
        "my_list.insert(1, 4)\n",
        "print(my_list)\n",
        "#extent - adds all elements of an a list to the end of the current list\n",
        "my_list = [1, 2, 3]\n",
        "new_list = [4, 5, 6]\n",
        "my_list.extend(new_list)\n",
        "print(my_list)\n",
        "#remove - removes the first occurrence of a specified element from the list\n",
        "my_list = [1, 2, 3, 4, 5, 6]\n",
        "my_list.remove(4)\n",
        "print(my_list)\n",
        "#pop - removes the element at the specified index from the list and returns it. If no index is specified, it removes and returns the last element\n",
        "my_list = [1, 2, 3, 4, 5, 6]\n",
        "item = my_list.pop(2)\n",
        "print(item)\n",
        "print(my_list)\n",
        "#index - returns the index of the first occurrence of a specified element in the list\n",
        "my_list = [1, 2, 3, 4, 5, 6]\n",
        "index = my_list.index(4)\n",
        "print(index)\n",
        "#count - returns the number of times a specified element appears in the list\n",
        "my_list = [1, 2, 3, 4, 5, 6, 4, 3]\n",
        "count = my_list.count(3)\n",
        "print(count)"
      ],
      "metadata": {
        "colab": {
          "base_uri": "https://localhost:8080/"
        },
        "id": "mvU7FhSijk8i",
        "outputId": "4460e4a5-4cf3-4b84-c4f9-812c412b59df"
      },
      "execution_count": 3,
      "outputs": [
        {
          "output_type": "stream",
          "name": "stdout",
          "text": [
            "[1, 2, 3, 4]\n",
            "[1, 4, 2, 3]\n",
            "[1, 2, 3, 4, 5, 6]\n",
            "[1, 2, 3, 5, 6]\n",
            "3\n",
            "[1, 2, 4, 5, 6]\n",
            "3\n",
            "2\n"
          ]
        }
      ]
    },
    {
      "cell_type": "code",
      "source": [
        "#3.\tImplement the methods of Tuple with examples.\n",
        "#count() no. of times a specified element appears in the tuple\n",
        "my_tuple = (1, 2, 3, 4, 5, 6, 4, 3)\n",
        "count = my_tuple.count(3)\n",
        "print(count)\n",
        "#index() index of the first occurrence \n",
        "my_tuple = (1, 2, 3, 4, 5, 6)\n",
        "index = my_tuple.index(4)\n",
        "print(index)\n",
        "#len() \n",
        "my_tuple = (1, 2, 3, 4, 5, 6)\n",
        "print(len(my_tuple))\n",
        "#min()\n",
        "my_tuple = (1, 2, 3, 4, 5, 6)\n",
        "print(min(my_tuple))\n",
        "#max() - \n",
        "my_tuple = (1, 2, 3, 4, 5, 6)\n",
        "print(max(my_tuple))\n",
        "#sorted() \n",
        "my_tuple = (1, 2, 3, 4, 5, 6)\n",
        "sorted_tuple = sorted(my_tuple)\n",
        "print(sorted_tuple)\n"
      ],
      "metadata": {
        "colab": {
          "base_uri": "https://localhost:8080/"
        },
        "id": "nqyc8GBalvFr",
        "outputId": "715e27ad-8293-4085-9f93-dea55235ae0a"
      },
      "execution_count": 5,
      "outputs": [
        {
          "output_type": "stream",
          "name": "stdout",
          "text": [
            "2\n",
            "3\n",
            "6\n",
            "1\n",
            "6\n",
            "[1, 2, 3, 4, 5, 6]\n"
          ]
        }
      ]
    },
    {
      "cell_type": "code",
      "source": [
        "#4. Implement the methods of Dictionary with examples.\n",
        "#clear() - This method removes all items from the dictionary.\n",
        "my_dict = {'name': 'John', 'age': 30}\n",
        "my_dict.clear()\n",
        "print(my_dict)\n",
        "#copy() - This method returns a shallow copy of the dictionary.\n",
        "my_dict = {'name': 'John', 'age': 30}\n",
        "new_dict = my_dict.copy()\n",
        "print(new_dict)\n",
        "#items() - This method returns a view object that displays a list of the dictionary's (key, value) tuple pairs.\n",
        "my_dict = {'name': 'John', 'age': 30}\n",
        "items = my_dict.items()\n",
        "print(items)\n",
        "#keys() - This method returns a view object that displays a list of the dictionary's keys.\n",
        "my_dict = {'name': 'John', 'age': 30}\n",
        "keys = my_dict.keys()\n",
        "print(keys)\n",
        "#pop() - This method removes and returns an element with the specified key. If the key is not found, it returns a specified default value.\n",
        "my_dict = {'name': 'John', 'age': 30}\n",
        "age = my_dict.pop('age', None)\n",
        "print(age)\n",
        "print(my_dict)\n",
        "#popitem() - This method removes and returns an arbitrary (key, value) pair from the dictionary.\n",
        "my_dict = {'name': 'John', 'age': 30}\n",
        "item = my_dict.popitem()\n",
        "print(item)\n",
        "print(my_dict)\n",
        "#update() - This method updates the dictionary with the key/value pairs from another dictionary or from an iterable of key/value pairs.\n",
        "my_dict = {'name': 'John', 'age': 30}\n",
        "new_dict = {'gender': 'male'}\n",
        "my_dict.update(new_dict)\n",
        "print(my_dict)"
      ],
      "metadata": {
        "colab": {
          "base_uri": "https://localhost:8080/"
        },
        "id": "iv_svZthm1LN",
        "outputId": "d44f451c-845f-4a74-9840-c47ed04a8f4a"
      },
      "execution_count": 6,
      "outputs": [
        {
          "output_type": "stream",
          "name": "stdout",
          "text": [
            "{}\n",
            "{'name': 'John', 'age': 30}\n",
            "dict_items([('name', 'John'), ('age', 30)])\n",
            "dict_keys(['name', 'age'])\n",
            "30\n",
            "{'name': 'John'}\n",
            "('age', 30)\n",
            "{'name': 'John'}\n",
            "{'name': 'John', 'age': 30, 'gender': 'male'}\n"
          ]
        }
      ]
    },
    {
      "cell_type": "code",
      "source": [
        "#6.\tWrite a python program to convert Decimal to Binary, Octal and Hexadecimal with direct method.\n",
        "decimal_num = 42\n",
        "# convert to binary\n",
        "binary_num = bin(decimal_num)\n",
        "print(binary_num)\n",
        "# convert to octal\n",
        "octal_num = oct(decimal_num)\n",
        "print(octal_num)\n",
        "# convert to hexadecimal\n",
        "hexadecimal_num = hex(decimal_num)\n",
        "print(hexadecimal_num)"
      ],
      "metadata": {
        "colab": {
          "base_uri": "https://localhost:8080/"
        },
        "id": "sofXKJYLn_t1",
        "outputId": "c2b704c4-f4fa-400d-c04e-f450da22d98d"
      },
      "execution_count": 7,
      "outputs": [
        {
          "output_type": "stream",
          "name": "stdout",
          "text": [
            "0b101010\n",
            "0o52\n",
            "0x2a\n"
          ]
        }
      ]
    },
    {
      "cell_type": "code",
      "source": [
        "#7. Implement Arithmetic operators with examples.\n",
        "# + (addition) \n",
        "x = 5\n",
        "y = 3\n",
        "result = x + y\n",
        "print(result)\n",
        "# - (subtraction) \n",
        "x = 5\n",
        "y = 3\n",
        "result = x - y\n",
        "print(result)\n",
        "# * (multiplication) \n",
        "x = 5\n",
        "y = 3\n",
        "result = x * y\n",
        "print(result)\n",
        "Output: 15\n",
        "# / (division)\n",
        "x = 6\n",
        "y = 3\n",
        "result = x / y\n",
        "print(result)\n",
        "# % (modulus)\n",
        "x = 7\n",
        "y = 3\n",
        "result = x % y\n",
        "print(result)\n",
        "# ** (exponentiation) \n",
        "x = 2\n",
        "y = 3\n",
        "result = x ** y\n",
        "print(result)\n",
        "# // (floor division)\n",
        "x = 7\n",
        "y = 3\n",
        "result = x // y\n",
        "print(result)"
      ],
      "metadata": {
        "colab": {
          "base_uri": "https://localhost:8080/"
        },
        "id": "dq7ktispqKrg",
        "outputId": "75f96f6c-3b13-43b4-fda1-2476896cdee3"
      },
      "execution_count": 23,
      "outputs": [
        {
          "output_type": "stream",
          "name": "stdout",
          "text": [
            "8\n",
            "2\n",
            "15\n",
            "2.0\n",
            "1\n",
            "8\n",
            "2\n"
          ]
        }
      ]
    },
    {
      "cell_type": "code",
      "source": [
        "# 8.\tImplement Assignment operators with examples.\n",
        "# =\n",
        "x = 5\n",
        "print(x)\n",
        "# += \n",
        "x = 5\n",
        "x += 3 # same as x = x + 3\n",
        "print(x)\n",
        "# -=\n",
        "x = 5\n",
        "x -= 3 # same as x = x - 3\n",
        "print(x)\n",
        "# *=\n",
        "x = 5\n",
        "x *= 3 # same as x = x * 3\n",
        "print(x)\n",
        "# /= \n",
        "x = 6\n",
        "x /= 3 # same as x = x / 3\n",
        "print(x)\n",
        "# %= \n",
        "x = 7\n",
        "x %= 3 # same as x = x % 3\n",
        "print(x)\n",
        "# //\n",
        "x = 7\n",
        "x //= 3 # same as x = x // 3\n",
        "print(x)\n",
        "# **\n",
        "x = 2\n",
        "x **= 3 # same as x = x ** 3\n",
        "print(x)"
      ],
      "metadata": {
        "colab": {
          "base_uri": "https://localhost:8080/"
        },
        "id": "F5jblDFAsOu7",
        "outputId": "c82d3d26-1c75-451d-a231-ec1e488d8f69"
      },
      "execution_count": 13,
      "outputs": [
        {
          "output_type": "stream",
          "name": "stdout",
          "text": [
            "5\n",
            "8\n",
            "2\n",
            "15\n",
            "2.0\n",
            "1\n",
            "2\n",
            "8\n"
          ]
        }
      ]
    },
    {
      "cell_type": "code",
      "source": [
        "# 9. Implement Comparison operators with examples.\n",
        "# == (equal to) \n",
        "x = 5\n",
        "y = 3\n",
        "result = x == y\n",
        "print(result)\n",
        "# != (not equal to)\n",
        "x = 5\n",
        "y = 3\n",
        "result = x != y\n",
        "print(result)\n",
        "# > (greater than)\n",
        "x = 5\n",
        "y = 3\n",
        "result = x > y\n",
        "print(result)\n",
        "# < (less than)\n",
        "x = 5\n",
        "y = 3\n",
        "result = x < y\n",
        "print(result)\n",
        "# >=\n",
        "x = 5\n",
        "y = 3\n",
        "result = x >= y\n",
        "print(result)\n",
        "# <=\n",
        "x = 5\n",
        "y = 3\n",
        "result = x <= y\n",
        "print(result)"
      ],
      "metadata": {
        "colab": {
          "base_uri": "https://localhost:8080/"
        },
        "id": "EdsiyQ8wuGno",
        "outputId": "1249e2de-4101-4e84-f62c-0fdd9ad8ced8"
      },
      "execution_count": 14,
      "outputs": [
        {
          "output_type": "stream",
          "name": "stdout",
          "text": [
            "False\n",
            "True\n",
            "True\n",
            "False\n",
            "True\n",
            "False\n"
          ]
        }
      ]
    },
    {
      "cell_type": "code",
      "source": [
        "#10.\tImplement Logical operators with examples.\n",
        "# and \n",
        "x = 5\n",
        "result = (x > 0) and (x < 10)\n",
        "print(result)\n",
        "# or \n",
        "x = 5\n",
        "result = (x < 0) or (x > 10)\n",
        "print(result)\n",
        "# not\n",
        "x = 5\n",
        "result = not (x > 0)\n",
        "print(result)\n",
        "# is\n",
        "x = [1,2,3]\n",
        "y = [1,2,3]\n",
        "result = x is y\n",
        "print(result)\n",
        "# is not \n",
        "x = [1,2,3]\n",
        "y = [1,2,3]\n",
        "result = x is not y\n",
        "print(result)"
      ],
      "metadata": {
        "colab": {
          "base_uri": "https://localhost:8080/"
        },
        "id": "6sOaDiLt4dAV",
        "outputId": "b1848f03-c056-42c7-a68b-110e323d445b"
      },
      "execution_count": 15,
      "outputs": [
        {
          "output_type": "stream",
          "name": "stdout",
          "text": [
            "True\n",
            "False\n",
            "False\n",
            "False\n",
            "True\n"
          ]
        }
      ]
    },
    {
      "cell_type": "code",
      "source": [
        "#11. Implement Bitwise operators with examples. \n",
        "# & (bitwise AND)\n",
        "x = 5  # binary: 101\n",
        "y = 3  # binary: 011\n",
        "result = x & y\n",
        "print(result)\n",
        "# | (bitwise OR)\n",
        "x = 5  # binary: 101\n",
        "y = 3  # binary: 011\n",
        "result = x | y\n",
        "print(result)\n",
        "# ^ (bitwise XOR) \n",
        "x = 5  # binary: 101\n",
        "y = 3  # binary: 011\n",
        "result = x ^ y\n",
        "print(result)\n",
        "# ~ (bitwise NOT)\n",
        "x = 5  # binary: 101\n",
        "result = ~x\n",
        "print(result)\n",
        "# << (left shift)\n",
        "x = 5  # binary: 101\n",
        "result = x << 1\n",
        "print(result)\n",
        "# >> (right shift)\n",
        "x = 5  # binary: 101\n",
        "result = x >> 1\n",
        "print(result)"
      ],
      "metadata": {
        "colab": {
          "base_uri": "https://localhost:8080/"
        },
        "id": "I1pP3uRK5UNG",
        "outputId": "7d1293e2-75a4-4537-d9c8-2b4f1c68e0a1"
      },
      "execution_count": 16,
      "outputs": [
        {
          "output_type": "stream",
          "name": "stdout",
          "text": [
            "1\n",
            "7\n",
            "6\n",
            "-6\n",
            "10\n",
            "2\n"
          ]
        }
      ]
    },
    {
      "cell_type": "code",
      "source": [
        "# 12.\tImplement Membership operators with examples.\n",
        "\n",
        "# using the in operator\n",
        "numbers = [\"1\",\"2\",\"3\",\"4\",\"5\"]\n",
        "print(\"3\" in numbers)\n",
        "print(\"6\" in numbers)\n",
        "# using the not in operator\n",
        "numbers = [\"1\",\"2\",\"3\",\"4\",\"5\"]\n",
        "print(\"3\" not in numbers)\n",
        "print(\"6\" not in numbers)\n",
        "# string membership\n",
        "word = \"Hello\"\n",
        "print(\"e\" in word)\n",
        "print(\"x\" in word)"
      ],
      "metadata": {
        "colab": {
          "base_uri": "https://localhost:8080/"
        },
        "id": "OWAqmGUz6h8-",
        "outputId": "0055e2b2-9326-4e22-8c13-af0b1f60325a"
      },
      "execution_count": 22,
      "outputs": [
        {
          "output_type": "stream",
          "name": "stdout",
          "text": [
            "True\n",
            "False\n",
            "False\n",
            "True\n",
            "True\n",
            "False\n"
          ]
        }
      ]
    },
    {
      "cell_type": "code",
      "source": [
        "# 13.\tImplement Identity operators with examples\n",
        "#is\n",
        "x = [\"prince\", \"gradstellar\"]\n",
        "y = [\"prince\", \"gradstellar\"]\n",
        "z = x\n",
        "print(x is z)\n",
        "print(x is y)\n",
        "print(x == y)\n",
        "#is not\n",
        "x = [\"prince\", \"gradstellar\"]\n",
        "y = [\"prince\", \"gradstellar\"]\n",
        "z = x\n",
        "print(x is not z)\n",
        "print(x is not y)\n",
        "print(x != y)"
      ],
      "metadata": {
        "colab": {
          "base_uri": "https://localhost:8080/"
        },
        "id": "nkei7OpdBCqh",
        "outputId": "89bcdf27-7007-4607-ce87-009ba88c51b5"
      },
      "execution_count": 25,
      "outputs": [
        {
          "output_type": "stream",
          "name": "stdout",
          "text": [
            "True\n",
            "False\n",
            "True\n",
            "False\n",
            "True\n",
            "False\n"
          ]
        }
      ]
    },
    {
      "cell_type": "code",
      "source": [
        "# 14.\tDemonstrate Negative indexing for List and apply slicing.\n",
        "#negative indexing\n",
        "numbers = [1, 2, 3, 4, 5]\n",
        "# last element\n",
        "x = numbers[-1]\n",
        "# last second element\n",
        "y = numbers[-2]\n",
        "# first element\n",
        "z = numbers[-5]\n",
        "print(x)\n",
        "print(y)\n",
        "print(z)\n",
        "#slicing\n",
        "numbers = [1, 2, 3, 4, 5]\n",
        "\n",
        "# first three elements\n",
        "x = numbers[0:3]\n",
        "print(x)\n",
        "# last three elements\n",
        "y = numbers[-3:]\n",
        "print(y)\n",
        "# middle three elements\n",
        "z = numbers[1:-1]\n",
        "print(z)\n",
        "\n",
        "numbers = [1, 2, 3, 4, 5, 6, 7, 8, 9, 10]\n",
        "# every 2nd element\n",
        "x = numbers[0::2]\n",
        "print(x)\n",
        "# every 3rd element\n",
        "y = numbers[0::3]\n",
        "print(y)"
      ],
      "metadata": {
        "colab": {
          "base_uri": "https://localhost:8080/"
        },
        "id": "zFih8ZMDB_rQ",
        "outputId": "165b4665-2138-4748-c17a-c3a860b58bd9"
      },
      "execution_count": 31,
      "outputs": [
        {
          "output_type": "stream",
          "name": "stdout",
          "text": [
            "5\n",
            "4\n",
            "1\n",
            "[1, 2, 3]\n",
            "[3, 4, 5]\n",
            "[2, 3, 4]\n",
            "[1, 3, 5, 7, 9]\n",
            "[1, 4, 7, 10]\n"
          ]
        }
      ]
    },
    {
      "cell_type": "code",
      "source": [
        "# 15.\tPredict the output for the given code snippet and justify the result.\n",
        "#print( 'A series of characters designated as one object known as a string’[::-1][4::3] ) \n",
        "#print(\"------\")\n",
        "#print( 'Welcome to Python traing program' [3:10][::-1] )\n",
        "\n",
        "# ANSWER:\n",
        "# The first print statement will output: \"gnirts\"\n",
        "#This is because the string is first reversed using [::-1], which reverses the order of the characters in the string. Then, slicing is applied with [4::3], which starts at the 4th indexed character (the 5th character, since indexing starts at 0) and selects every 3rd character afterwards.\n",
        "\n",
        "#The second print statement will output: \"emoc\"\n",
        "#This is because the string is first sliced with [3:10], which selects characters from the 3rd indexed character (the 4th character) to the 9th indexed character. Then, the selected slice is reversed using [::-1], which reverses the order of the characters in the slice.\n",
        "\n",
        "#So the first print statement prints every 3rd character from the reversed string after 4th position, in this case gnirts. Second print statement prints the slice of the string 'Welcome to Python traing program' from 4th to 9th position in reverse order, in this case emoc."
      ],
      "metadata": {
        "id": "-h9fC3z7FmWi"
      },
      "execution_count": 45,
      "outputs": []
    },
    {
      "cell_type": "code",
      "source": [
        "# 16.\tWrite a python code to get desired output input sting : p_phrase=\"was it a car or a cat I saw\" Output String : WAS I TAC A RO RAC A TI SA W\n",
        "p_phrase = \"was it a car or a cat I saw\"\n",
        "output = ' '.join([word.upper()[::-1] for word in p_phrase.split()])\n",
        "print(output)"
      ],
      "metadata": {
        "colab": {
          "base_uri": "https://localhost:8080/"
        },
        "id": "cLNJanKqF7iO",
        "outputId": "5de0375f-5e6e-4383-d1bb-5ad0b867abc0"
      },
      "execution_count": 40,
      "outputs": [
        {
          "output_type": "stream",
          "name": "stdout",
          "text": [
            "SAW TI A RAC RO A TAC I WAS\n"
          ]
        }
      ]
    },
    {
      "cell_type": "code",
      "source": [
        "#17.\tYou are required to generate a word similar to ZOO, X and Y that denote the number of Zs and Os respectively. The generated word similar to ZOO where Y= 2 * X.\n",
        "#Input X= 2 Output ZZOOOO\n",
        "#Input X= 5 Output ZZZZZOOOOOOOOOO\n",
        "\n",
        "x = 2\n",
        "y = x * 2\n",
        "output = 'Z'*x + 'O'*y\n",
        "print(output)\n",
        "x = 5\n",
        "y = x * 2\n",
        "output = 'Z'*x + 'O'*y\n",
        "print(output)\n"
      ],
      "metadata": {
        "colab": {
          "base_uri": "https://localhost:8080/"
        },
        "id": "id1M9nsbHLww",
        "outputId": "890d6cd1-0e4b-4413-a0e0-d02f72d150b3"
      },
      "execution_count": 44,
      "outputs": [
        {
          "output_type": "stream",
          "name": "stdout",
          "text": [
            "ZZOOOO\n",
            "ZZZZZOOOOOOOOOO\n"
          ]
        }
      ]
    }
  ]
}